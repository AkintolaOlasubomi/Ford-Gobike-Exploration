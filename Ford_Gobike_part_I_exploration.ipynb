{
 "cells": [
  {
   "cell_type": "markdown",
   "metadata": {},
   "source": [
    "# Part I - Ford GoBike System Data Analysis\n",
    "## by Akintola Malik Olasubomi\n",
    "\n",
    "## Introduction\n",
    "> This data set includes information about individual rides made in a bike-sharing system covering the greater San Francisco Bay area. The data was last updated in 2019, as seen by the name \"201902-fordgobike-tripdata.csv\". I want to investigate the data and see what insights I can get from it. \n",
    "\n",
    "\n",
    ">**Rubric Tip**: Your code should not generate any errors, and should use functions, loops where possible to reduce repetitive code. Prefer to use functions to reuse code statements.\n",
    "\n",
    "> **Rubric Tip**: Document your approach and findings in markdown cells. Use comments and docstrings in code cells to document the code functionality.\n",
    "\n",
    ">**Rubric Tip**: Markup cells should have headers and text that organize your thoughts, findings, and what you plan on investigating next.  \n",
    "\n",
    "\n",
    "\n",
    "## Preliminary Wrangling\n"
   ]
  },
  {
   "cell_type": "code",
   "execution_count": 1,
   "metadata": {},
   "outputs": [],
   "source": [
    "# import all packages and set plots to be embedded inline\n",
    "import numpy as np\n",
    "import pandas as pd\n",
    "import matplotlib.pyplot as plt\n",
    "import seaborn as sns\n",
    "\n",
    "%matplotlib inline"
   ]
  },
  {
   "cell_type": "markdown",
   "metadata": {},
   "source": [
    "> Load in your dataset and describe its properties through the questions below. Try and motivate your exploration goals through this section.\n"
   ]
  },
  {
   "cell_type": "code",
   "execution_count": 2,
   "metadata": {},
   "outputs": [],
   "source": [
    "# Load the dataset\n",
    "bike_df = pd.read_csv('201902-fordgobike-tripdata.csv')"
   ]
  },
  {
   "cell_type": "code",
   "execution_count": 3,
   "metadata": {},
   "outputs": [
    {
     "data": {
      "text/html": [
       "<div>\n",
       "<style scoped>\n",
       "    .dataframe tbody tr th:only-of-type {\n",
       "        vertical-align: middle;\n",
       "    }\n",
       "\n",
       "    .dataframe tbody tr th {\n",
       "        vertical-align: top;\n",
       "    }\n",
       "\n",
       "    .dataframe thead th {\n",
       "        text-align: right;\n",
       "    }\n",
       "</style>\n",
       "<table border=\"1\" class=\"dataframe\">\n",
       "  <thead>\n",
       "    <tr style=\"text-align: right;\">\n",
       "      <th></th>\n",
       "      <th>duration_sec</th>\n",
       "      <th>start_time</th>\n",
       "      <th>end_time</th>\n",
       "      <th>start_station_id</th>\n",
       "      <th>start_station_name</th>\n",
       "      <th>start_station_latitude</th>\n",
       "      <th>start_station_longitude</th>\n",
       "      <th>end_station_id</th>\n",
       "      <th>end_station_name</th>\n",
       "      <th>end_station_latitude</th>\n",
       "      <th>end_station_longitude</th>\n",
       "      <th>bike_id</th>\n",
       "      <th>user_type</th>\n",
       "      <th>member_birth_year</th>\n",
       "      <th>member_gender</th>\n",
       "      <th>bike_share_for_all_trip</th>\n",
       "    </tr>\n",
       "  </thead>\n",
       "  <tbody>\n",
       "    <tr>\n",
       "      <th>0</th>\n",
       "      <td>52185</td>\n",
       "      <td>2019-02-28 17:32:10.1450</td>\n",
       "      <td>2019-03-01 08:01:55.9750</td>\n",
       "      <td>21.0</td>\n",
       "      <td>Montgomery St BART Station (Market St at 2nd St)</td>\n",
       "      <td>37.789625</td>\n",
       "      <td>-122.400811</td>\n",
       "      <td>13.0</td>\n",
       "      <td>Commercial St at Montgomery St</td>\n",
       "      <td>37.794231</td>\n",
       "      <td>-122.402923</td>\n",
       "      <td>4902</td>\n",
       "      <td>Customer</td>\n",
       "      <td>1984.0</td>\n",
       "      <td>Male</td>\n",
       "      <td>No</td>\n",
       "    </tr>\n",
       "    <tr>\n",
       "      <th>1</th>\n",
       "      <td>42521</td>\n",
       "      <td>2019-02-28 18:53:21.7890</td>\n",
       "      <td>2019-03-01 06:42:03.0560</td>\n",
       "      <td>23.0</td>\n",
       "      <td>The Embarcadero at Steuart St</td>\n",
       "      <td>37.791464</td>\n",
       "      <td>-122.391034</td>\n",
       "      <td>81.0</td>\n",
       "      <td>Berry St at 4th St</td>\n",
       "      <td>37.775880</td>\n",
       "      <td>-122.393170</td>\n",
       "      <td>2535</td>\n",
       "      <td>Customer</td>\n",
       "      <td>NaN</td>\n",
       "      <td>NaN</td>\n",
       "      <td>No</td>\n",
       "    </tr>\n",
       "    <tr>\n",
       "      <th>2</th>\n",
       "      <td>61854</td>\n",
       "      <td>2019-02-28 12:13:13.2180</td>\n",
       "      <td>2019-03-01 05:24:08.1460</td>\n",
       "      <td>86.0</td>\n",
       "      <td>Market St at Dolores St</td>\n",
       "      <td>37.769305</td>\n",
       "      <td>-122.426826</td>\n",
       "      <td>3.0</td>\n",
       "      <td>Powell St BART Station (Market St at 4th St)</td>\n",
       "      <td>37.786375</td>\n",
       "      <td>-122.404904</td>\n",
       "      <td>5905</td>\n",
       "      <td>Customer</td>\n",
       "      <td>1972.0</td>\n",
       "      <td>Male</td>\n",
       "      <td>No</td>\n",
       "    </tr>\n",
       "    <tr>\n",
       "      <th>3</th>\n",
       "      <td>36490</td>\n",
       "      <td>2019-02-28 17:54:26.0100</td>\n",
       "      <td>2019-03-01 04:02:36.8420</td>\n",
       "      <td>375.0</td>\n",
       "      <td>Grove St at Masonic Ave</td>\n",
       "      <td>37.774836</td>\n",
       "      <td>-122.446546</td>\n",
       "      <td>70.0</td>\n",
       "      <td>Central Ave at Fell St</td>\n",
       "      <td>37.773311</td>\n",
       "      <td>-122.444293</td>\n",
       "      <td>6638</td>\n",
       "      <td>Subscriber</td>\n",
       "      <td>1989.0</td>\n",
       "      <td>Other</td>\n",
       "      <td>No</td>\n",
       "    </tr>\n",
       "    <tr>\n",
       "      <th>4</th>\n",
       "      <td>1585</td>\n",
       "      <td>2019-02-28 23:54:18.5490</td>\n",
       "      <td>2019-03-01 00:20:44.0740</td>\n",
       "      <td>7.0</td>\n",
       "      <td>Frank H Ogawa Plaza</td>\n",
       "      <td>37.804562</td>\n",
       "      <td>-122.271738</td>\n",
       "      <td>222.0</td>\n",
       "      <td>10th Ave at E 15th St</td>\n",
       "      <td>37.792714</td>\n",
       "      <td>-122.248780</td>\n",
       "      <td>4898</td>\n",
       "      <td>Subscriber</td>\n",
       "      <td>1974.0</td>\n",
       "      <td>Male</td>\n",
       "      <td>Yes</td>\n",
       "    </tr>\n",
       "  </tbody>\n",
       "</table>\n",
       "</div>"
      ],
      "text/plain": [
       "   duration_sec                start_time                  end_time  \\\n",
       "0         52185  2019-02-28 17:32:10.1450  2019-03-01 08:01:55.9750   \n",
       "1         42521  2019-02-28 18:53:21.7890  2019-03-01 06:42:03.0560   \n",
       "2         61854  2019-02-28 12:13:13.2180  2019-03-01 05:24:08.1460   \n",
       "3         36490  2019-02-28 17:54:26.0100  2019-03-01 04:02:36.8420   \n",
       "4          1585  2019-02-28 23:54:18.5490  2019-03-01 00:20:44.0740   \n",
       "\n",
       "   start_station_id                                start_station_name  \\\n",
       "0              21.0  Montgomery St BART Station (Market St at 2nd St)   \n",
       "1              23.0                     The Embarcadero at Steuart St   \n",
       "2              86.0                           Market St at Dolores St   \n",
       "3             375.0                           Grove St at Masonic Ave   \n",
       "4               7.0                               Frank H Ogawa Plaza   \n",
       "\n",
       "   start_station_latitude  start_station_longitude  end_station_id  \\\n",
       "0               37.789625              -122.400811            13.0   \n",
       "1               37.791464              -122.391034            81.0   \n",
       "2               37.769305              -122.426826             3.0   \n",
       "3               37.774836              -122.446546            70.0   \n",
       "4               37.804562              -122.271738           222.0   \n",
       "\n",
       "                               end_station_name  end_station_latitude  \\\n",
       "0                Commercial St at Montgomery St             37.794231   \n",
       "1                            Berry St at 4th St             37.775880   \n",
       "2  Powell St BART Station (Market St at 4th St)             37.786375   \n",
       "3                        Central Ave at Fell St             37.773311   \n",
       "4                         10th Ave at E 15th St             37.792714   \n",
       "\n",
       "   end_station_longitude  bike_id   user_type  member_birth_year  \\\n",
       "0            -122.402923     4902    Customer             1984.0   \n",
       "1            -122.393170     2535    Customer                NaN   \n",
       "2            -122.404904     5905    Customer             1972.0   \n",
       "3            -122.444293     6638  Subscriber             1989.0   \n",
       "4            -122.248780     4898  Subscriber             1974.0   \n",
       "\n",
       "  member_gender bike_share_for_all_trip  \n",
       "0          Male                      No  \n",
       "1           NaN                      No  \n",
       "2          Male                      No  \n",
       "3         Other                      No  \n",
       "4          Male                     Yes  "
      ]
     },
     "execution_count": 3,
     "metadata": {},
     "output_type": "execute_result"
    }
   ],
   "source": [
    "# check the head\n",
    "bike_df.head(5)"
   ]
  },
  {
   "cell_type": "code",
   "execution_count": 4,
   "metadata": {},
   "outputs": [
    {
     "data": {
      "text/plain": [
       "(183412, 16)"
      ]
     },
     "execution_count": 4,
     "metadata": {},
     "output_type": "execute_result"
    }
   ],
   "source": [
    "# check the number of rows and columns\n",
    "bike_df.shape"
   ]
  },
  {
   "cell_type": "code",
   "execution_count": 5,
   "metadata": {},
   "outputs": [
    {
     "name": "stdout",
     "output_type": "stream",
     "text": [
      "<class 'pandas.core.frame.DataFrame'>\n",
      "RangeIndex: 183412 entries, 0 to 183411\n",
      "Data columns (total 16 columns):\n",
      " #   Column                   Non-Null Count   Dtype  \n",
      "---  ------                   --------------   -----  \n",
      " 0   duration_sec             183412 non-null  int64  \n",
      " 1   start_time               183412 non-null  object \n",
      " 2   end_time                 183412 non-null  object \n",
      " 3   start_station_id         183215 non-null  float64\n",
      " 4   start_station_name       183215 non-null  object \n",
      " 5   start_station_latitude   183412 non-null  float64\n",
      " 6   start_station_longitude  183412 non-null  float64\n",
      " 7   end_station_id           183215 non-null  float64\n",
      " 8   end_station_name         183215 non-null  object \n",
      " 9   end_station_latitude     183412 non-null  float64\n",
      " 10  end_station_longitude    183412 non-null  float64\n",
      " 11  bike_id                  183412 non-null  int64  \n",
      " 12  user_type                183412 non-null  object \n",
      " 13  member_birth_year        175147 non-null  float64\n",
      " 14  member_gender            175147 non-null  object \n",
      " 15  bike_share_for_all_trip  183412 non-null  object \n",
      "dtypes: float64(7), int64(2), object(7)\n",
      "memory usage: 22.4+ MB\n"
     ]
    }
   ],
   "source": [
    "# check the info\n",
    "bike_df.info()"
   ]
  },
  {
   "cell_type": "code",
   "execution_count": 6,
   "metadata": {},
   "outputs": [
    {
     "data": {
      "text/html": [
       "<div>\n",
       "<style scoped>\n",
       "    .dataframe tbody tr th:only-of-type {\n",
       "        vertical-align: middle;\n",
       "    }\n",
       "\n",
       "    .dataframe tbody tr th {\n",
       "        vertical-align: top;\n",
       "    }\n",
       "\n",
       "    .dataframe thead th {\n",
       "        text-align: right;\n",
       "    }\n",
       "</style>\n",
       "<table border=\"1\" class=\"dataframe\">\n",
       "  <thead>\n",
       "    <tr style=\"text-align: right;\">\n",
       "      <th></th>\n",
       "      <th>duration_sec</th>\n",
       "      <th>start_time</th>\n",
       "      <th>end_time</th>\n",
       "      <th>start_station_id</th>\n",
       "      <th>start_station_name</th>\n",
       "      <th>start_station_latitude</th>\n",
       "      <th>start_station_longitude</th>\n",
       "      <th>end_station_id</th>\n",
       "      <th>end_station_name</th>\n",
       "      <th>end_station_latitude</th>\n",
       "      <th>end_station_longitude</th>\n",
       "      <th>bike_id</th>\n",
       "      <th>user_type</th>\n",
       "      <th>member_birth_year</th>\n",
       "      <th>member_gender</th>\n",
       "      <th>bike_share_for_all_trip</th>\n",
       "    </tr>\n",
       "  </thead>\n",
       "  <tbody>\n",
       "    <tr>\n",
       "      <th>1</th>\n",
       "      <td>42521</td>\n",
       "      <td>2019-02-28 18:53:21.7890</td>\n",
       "      <td>2019-03-01 06:42:03.0560</td>\n",
       "      <td>23.0</td>\n",
       "      <td>The Embarcadero at Steuart St</td>\n",
       "      <td>37.791464</td>\n",
       "      <td>-122.391034</td>\n",
       "      <td>81.0</td>\n",
       "      <td>Berry St at 4th St</td>\n",
       "      <td>37.775880</td>\n",
       "      <td>-122.393170</td>\n",
       "      <td>2535</td>\n",
       "      <td>Customer</td>\n",
       "      <td>NaN</td>\n",
       "      <td>NaN</td>\n",
       "      <td>No</td>\n",
       "    </tr>\n",
       "    <tr>\n",
       "      <th>13</th>\n",
       "      <td>915</td>\n",
       "      <td>2019-02-28 23:49:06.0620</td>\n",
       "      <td>2019-03-01 00:04:21.8670</td>\n",
       "      <td>252.0</td>\n",
       "      <td>Channing Way at Shattuck Ave</td>\n",
       "      <td>37.865847</td>\n",
       "      <td>-122.267443</td>\n",
       "      <td>244.0</td>\n",
       "      <td>Shattuck Ave at Hearst Ave</td>\n",
       "      <td>37.873676</td>\n",
       "      <td>-122.268487</td>\n",
       "      <td>5101</td>\n",
       "      <td>Subscriber</td>\n",
       "      <td>NaN</td>\n",
       "      <td>NaN</td>\n",
       "      <td>No</td>\n",
       "    </tr>\n",
       "    <tr>\n",
       "      <th>28</th>\n",
       "      <td>650</td>\n",
       "      <td>2019-02-28 23:43:27.5030</td>\n",
       "      <td>2019-02-28 23:54:18.4510</td>\n",
       "      <td>258.0</td>\n",
       "      <td>University Ave at Oxford St</td>\n",
       "      <td>37.872355</td>\n",
       "      <td>-122.266447</td>\n",
       "      <td>263.0</td>\n",
       "      <td>Channing Way at San Pablo Ave</td>\n",
       "      <td>37.862827</td>\n",
       "      <td>-122.290231</td>\n",
       "      <td>4784</td>\n",
       "      <td>Customer</td>\n",
       "      <td>NaN</td>\n",
       "      <td>NaN</td>\n",
       "      <td>No</td>\n",
       "    </tr>\n",
       "    <tr>\n",
       "      <th>53</th>\n",
       "      <td>3418</td>\n",
       "      <td>2019-02-28 22:41:16.3620</td>\n",
       "      <td>2019-02-28 23:38:14.3630</td>\n",
       "      <td>11.0</td>\n",
       "      <td>Davis St at Jackson St</td>\n",
       "      <td>37.797280</td>\n",
       "      <td>-122.398436</td>\n",
       "      <td>11.0</td>\n",
       "      <td>Davis St at Jackson St</td>\n",
       "      <td>37.797280</td>\n",
       "      <td>-122.398436</td>\n",
       "      <td>319</td>\n",
       "      <td>Customer</td>\n",
       "      <td>NaN</td>\n",
       "      <td>NaN</td>\n",
       "      <td>No</td>\n",
       "    </tr>\n",
       "    <tr>\n",
       "      <th>65</th>\n",
       "      <td>926</td>\n",
       "      <td>2019-02-28 23:17:05.8530</td>\n",
       "      <td>2019-02-28 23:32:32.6820</td>\n",
       "      <td>13.0</td>\n",
       "      <td>Commercial St at Montgomery St</td>\n",
       "      <td>37.794231</td>\n",
       "      <td>-122.402923</td>\n",
       "      <td>81.0</td>\n",
       "      <td>Berry St at 4th St</td>\n",
       "      <td>37.775880</td>\n",
       "      <td>-122.393170</td>\n",
       "      <td>2951</td>\n",
       "      <td>Subscriber</td>\n",
       "      <td>NaN</td>\n",
       "      <td>NaN</td>\n",
       "      <td>No</td>\n",
       "    </tr>\n",
       "    <tr>\n",
       "      <th>...</th>\n",
       "      <td>...</td>\n",
       "      <td>...</td>\n",
       "      <td>...</td>\n",
       "      <td>...</td>\n",
       "      <td>...</td>\n",
       "      <td>...</td>\n",
       "      <td>...</td>\n",
       "      <td>...</td>\n",
       "      <td>...</td>\n",
       "      <td>...</td>\n",
       "      <td>...</td>\n",
       "      <td>...</td>\n",
       "      <td>...</td>\n",
       "      <td>...</td>\n",
       "      <td>...</td>\n",
       "      <td>...</td>\n",
       "    </tr>\n",
       "    <tr>\n",
       "      <th>183354</th>\n",
       "      <td>449</td>\n",
       "      <td>2019-02-01 01:35:07.6630</td>\n",
       "      <td>2019-02-01 01:42:36.8780</td>\n",
       "      <td>244.0</td>\n",
       "      <td>Shattuck Ave at Hearst Ave</td>\n",
       "      <td>37.873676</td>\n",
       "      <td>-122.268487</td>\n",
       "      <td>253.0</td>\n",
       "      <td>Haste St at College Ave</td>\n",
       "      <td>37.866418</td>\n",
       "      <td>-122.253799</td>\n",
       "      <td>5430</td>\n",
       "      <td>Customer</td>\n",
       "      <td>NaN</td>\n",
       "      <td>NaN</td>\n",
       "      <td>No</td>\n",
       "    </tr>\n",
       "    <tr>\n",
       "      <th>183356</th>\n",
       "      <td>795</td>\n",
       "      <td>2019-02-01 01:25:50.3660</td>\n",
       "      <td>2019-02-01 01:39:05.9500</td>\n",
       "      <td>368.0</td>\n",
       "      <td>Myrtle St at Polk St</td>\n",
       "      <td>37.785434</td>\n",
       "      <td>-122.419622</td>\n",
       "      <td>125.0</td>\n",
       "      <td>20th St at Bryant St</td>\n",
       "      <td>37.759200</td>\n",
       "      <td>-122.409851</td>\n",
       "      <td>5400</td>\n",
       "      <td>Subscriber</td>\n",
       "      <td>NaN</td>\n",
       "      <td>NaN</td>\n",
       "      <td>No</td>\n",
       "    </tr>\n",
       "    <tr>\n",
       "      <th>183363</th>\n",
       "      <td>673</td>\n",
       "      <td>2019-02-01 01:12:24.4200</td>\n",
       "      <td>2019-02-01 01:23:37.6450</td>\n",
       "      <td>75.0</td>\n",
       "      <td>Market St at Franklin St</td>\n",
       "      <td>37.773793</td>\n",
       "      <td>-122.421239</td>\n",
       "      <td>133.0</td>\n",
       "      <td>Valencia St at 22nd St</td>\n",
       "      <td>37.755213</td>\n",
       "      <td>-122.420975</td>\n",
       "      <td>5166</td>\n",
       "      <td>Customer</td>\n",
       "      <td>NaN</td>\n",
       "      <td>NaN</td>\n",
       "      <td>No</td>\n",
       "    </tr>\n",
       "    <tr>\n",
       "      <th>183371</th>\n",
       "      <td>196</td>\n",
       "      <td>2019-02-01 01:08:38.6410</td>\n",
       "      <td>2019-02-01 01:11:54.9490</td>\n",
       "      <td>58.0</td>\n",
       "      <td>Market St at 10th St</td>\n",
       "      <td>37.776619</td>\n",
       "      <td>-122.417385</td>\n",
       "      <td>75.0</td>\n",
       "      <td>Market St at Franklin St</td>\n",
       "      <td>37.773793</td>\n",
       "      <td>-122.421239</td>\n",
       "      <td>2395</td>\n",
       "      <td>Customer</td>\n",
       "      <td>NaN</td>\n",
       "      <td>NaN</td>\n",
       "      <td>No</td>\n",
       "    </tr>\n",
       "    <tr>\n",
       "      <th>183402</th>\n",
       "      <td>122</td>\n",
       "      <td>2019-02-01 00:17:32.2580</td>\n",
       "      <td>2019-02-01 00:19:34.9380</td>\n",
       "      <td>119.0</td>\n",
       "      <td>18th St at Noe St</td>\n",
       "      <td>37.761047</td>\n",
       "      <td>-122.432642</td>\n",
       "      <td>120.0</td>\n",
       "      <td>Mission Dolores Park</td>\n",
       "      <td>37.761420</td>\n",
       "      <td>-122.426435</td>\n",
       "      <td>4326</td>\n",
       "      <td>Subscriber</td>\n",
       "      <td>NaN</td>\n",
       "      <td>NaN</td>\n",
       "      <td>No</td>\n",
       "    </tr>\n",
       "  </tbody>\n",
       "</table>\n",
       "<p>8265 rows × 16 columns</p>\n",
       "</div>"
      ],
      "text/plain": [
       "        duration_sec                start_time                  end_time  \\\n",
       "1              42521  2019-02-28 18:53:21.7890  2019-03-01 06:42:03.0560   \n",
       "13               915  2019-02-28 23:49:06.0620  2019-03-01 00:04:21.8670   \n",
       "28               650  2019-02-28 23:43:27.5030  2019-02-28 23:54:18.4510   \n",
       "53              3418  2019-02-28 22:41:16.3620  2019-02-28 23:38:14.3630   \n",
       "65               926  2019-02-28 23:17:05.8530  2019-02-28 23:32:32.6820   \n",
       "...              ...                       ...                       ...   \n",
       "183354           449  2019-02-01 01:35:07.6630  2019-02-01 01:42:36.8780   \n",
       "183356           795  2019-02-01 01:25:50.3660  2019-02-01 01:39:05.9500   \n",
       "183363           673  2019-02-01 01:12:24.4200  2019-02-01 01:23:37.6450   \n",
       "183371           196  2019-02-01 01:08:38.6410  2019-02-01 01:11:54.9490   \n",
       "183402           122  2019-02-01 00:17:32.2580  2019-02-01 00:19:34.9380   \n",
       "\n",
       "        start_station_id              start_station_name  \\\n",
       "1                   23.0   The Embarcadero at Steuart St   \n",
       "13                 252.0    Channing Way at Shattuck Ave   \n",
       "28                 258.0     University Ave at Oxford St   \n",
       "53                  11.0          Davis St at Jackson St   \n",
       "65                  13.0  Commercial St at Montgomery St   \n",
       "...                  ...                             ...   \n",
       "183354             244.0      Shattuck Ave at Hearst Ave   \n",
       "183356             368.0            Myrtle St at Polk St   \n",
       "183363              75.0        Market St at Franklin St   \n",
       "183371              58.0            Market St at 10th St   \n",
       "183402             119.0               18th St at Noe St   \n",
       "\n",
       "        start_station_latitude  start_station_longitude  end_station_id  \\\n",
       "1                    37.791464              -122.391034            81.0   \n",
       "13                   37.865847              -122.267443           244.0   \n",
       "28                   37.872355              -122.266447           263.0   \n",
       "53                   37.797280              -122.398436            11.0   \n",
       "65                   37.794231              -122.402923            81.0   \n",
       "...                        ...                      ...             ...   \n",
       "183354               37.873676              -122.268487           253.0   \n",
       "183356               37.785434              -122.419622           125.0   \n",
       "183363               37.773793              -122.421239           133.0   \n",
       "183371               37.776619              -122.417385            75.0   \n",
       "183402               37.761047              -122.432642           120.0   \n",
       "\n",
       "                     end_station_name  end_station_latitude  \\\n",
       "1                  Berry St at 4th St             37.775880   \n",
       "13         Shattuck Ave at Hearst Ave             37.873676   \n",
       "28      Channing Way at San Pablo Ave             37.862827   \n",
       "53             Davis St at Jackson St             37.797280   \n",
       "65                 Berry St at 4th St             37.775880   \n",
       "...                               ...                   ...   \n",
       "183354        Haste St at College Ave             37.866418   \n",
       "183356           20th St at Bryant St             37.759200   \n",
       "183363         Valencia St at 22nd St             37.755213   \n",
       "183371       Market St at Franklin St             37.773793   \n",
       "183402           Mission Dolores Park             37.761420   \n",
       "\n",
       "        end_station_longitude  bike_id   user_type  member_birth_year  \\\n",
       "1                 -122.393170     2535    Customer                NaN   \n",
       "13                -122.268487     5101  Subscriber                NaN   \n",
       "28                -122.290231     4784    Customer                NaN   \n",
       "53                -122.398436      319    Customer                NaN   \n",
       "65                -122.393170     2951  Subscriber                NaN   \n",
       "...                       ...      ...         ...                ...   \n",
       "183354            -122.253799     5430    Customer                NaN   \n",
       "183356            -122.409851     5400  Subscriber                NaN   \n",
       "183363            -122.420975     5166    Customer                NaN   \n",
       "183371            -122.421239     2395    Customer                NaN   \n",
       "183402            -122.426435     4326  Subscriber                NaN   \n",
       "\n",
       "       member_gender bike_share_for_all_trip  \n",
       "1                NaN                      No  \n",
       "13               NaN                      No  \n",
       "28               NaN                      No  \n",
       "53               NaN                      No  \n",
       "65               NaN                      No  \n",
       "...              ...                     ...  \n",
       "183354           NaN                      No  \n",
       "183356           NaN                      No  \n",
       "183363           NaN                      No  \n",
       "183371           NaN                      No  \n",
       "183402           NaN                      No  \n",
       "\n",
       "[8265 rows x 16 columns]"
      ]
     },
     "execution_count": 6,
     "metadata": {},
     "output_type": "execute_result"
    }
   ],
   "source": [
    "# check the missing values to make sure they are NaN\n",
    "\n",
    "#bike_df[bike_df.start_station_id.isnull()]\n",
    "#bike_df[bike_df.start_station_name.isnull()]\n",
    "#bike_df[bike_df.end_station_id.isnull()]\n",
    "#bike_df[bike_df.end_station_name.isnull()]\n",
    "#bike_df[bike_df.member_birth_year.isnull()]\n",
    "bike_df[bike_df.member_gender.isnull()]"
   ]
  },
  {
   "cell_type": "code",
   "execution_count": 7,
   "metadata": {},
   "outputs": [
    {
     "data": {
      "text/plain": [
       "0"
      ]
     },
     "execution_count": 7,
     "metadata": {},
     "output_type": "execute_result"
    }
   ],
   "source": [
    "# check for duplicates\n",
    "sum(bike_df.duplicated())"
   ]
  },
  {
   "cell_type": "code",
   "execution_count": 8,
   "metadata": {},
   "outputs": [
    {
     "data": {
      "text/html": [
       "<div>\n",
       "<style scoped>\n",
       "    .dataframe tbody tr th:only-of-type {\n",
       "        vertical-align: middle;\n",
       "    }\n",
       "\n",
       "    .dataframe tbody tr th {\n",
       "        vertical-align: top;\n",
       "    }\n",
       "\n",
       "    .dataframe thead th {\n",
       "        text-align: right;\n",
       "    }\n",
       "</style>\n",
       "<table border=\"1\" class=\"dataframe\">\n",
       "  <thead>\n",
       "    <tr style=\"text-align: right;\">\n",
       "      <th></th>\n",
       "      <th>duration_sec</th>\n",
       "      <th>start_station_id</th>\n",
       "      <th>start_station_latitude</th>\n",
       "      <th>start_station_longitude</th>\n",
       "      <th>end_station_id</th>\n",
       "      <th>end_station_latitude</th>\n",
       "      <th>end_station_longitude</th>\n",
       "      <th>bike_id</th>\n",
       "      <th>member_birth_year</th>\n",
       "    </tr>\n",
       "  </thead>\n",
       "  <tbody>\n",
       "    <tr>\n",
       "      <th>count</th>\n",
       "      <td>183412.000000</td>\n",
       "      <td>183215.000000</td>\n",
       "      <td>183412.000000</td>\n",
       "      <td>183412.000000</td>\n",
       "      <td>183215.000000</td>\n",
       "      <td>183412.000000</td>\n",
       "      <td>183412.000000</td>\n",
       "      <td>183412.000000</td>\n",
       "      <td>175147.000000</td>\n",
       "    </tr>\n",
       "    <tr>\n",
       "      <th>mean</th>\n",
       "      <td>726.078435</td>\n",
       "      <td>138.590427</td>\n",
       "      <td>37.771223</td>\n",
       "      <td>-122.352664</td>\n",
       "      <td>136.249123</td>\n",
       "      <td>37.771427</td>\n",
       "      <td>-122.352250</td>\n",
       "      <td>4472.906375</td>\n",
       "      <td>1984.806437</td>\n",
       "    </tr>\n",
       "    <tr>\n",
       "      <th>std</th>\n",
       "      <td>1794.389780</td>\n",
       "      <td>111.778864</td>\n",
       "      <td>0.099581</td>\n",
       "      <td>0.117097</td>\n",
       "      <td>111.515131</td>\n",
       "      <td>0.099490</td>\n",
       "      <td>0.116673</td>\n",
       "      <td>1664.383394</td>\n",
       "      <td>10.116689</td>\n",
       "    </tr>\n",
       "    <tr>\n",
       "      <th>min</th>\n",
       "      <td>61.000000</td>\n",
       "      <td>3.000000</td>\n",
       "      <td>37.317298</td>\n",
       "      <td>-122.453704</td>\n",
       "      <td>3.000000</td>\n",
       "      <td>37.317298</td>\n",
       "      <td>-122.453704</td>\n",
       "      <td>11.000000</td>\n",
       "      <td>1878.000000</td>\n",
       "    </tr>\n",
       "    <tr>\n",
       "      <th>25%</th>\n",
       "      <td>325.000000</td>\n",
       "      <td>47.000000</td>\n",
       "      <td>37.770083</td>\n",
       "      <td>-122.412408</td>\n",
       "      <td>44.000000</td>\n",
       "      <td>37.770407</td>\n",
       "      <td>-122.411726</td>\n",
       "      <td>3777.000000</td>\n",
       "      <td>1980.000000</td>\n",
       "    </tr>\n",
       "    <tr>\n",
       "      <th>50%</th>\n",
       "      <td>514.000000</td>\n",
       "      <td>104.000000</td>\n",
       "      <td>37.780760</td>\n",
       "      <td>-122.398285</td>\n",
       "      <td>100.000000</td>\n",
       "      <td>37.781010</td>\n",
       "      <td>-122.398279</td>\n",
       "      <td>4958.000000</td>\n",
       "      <td>1987.000000</td>\n",
       "    </tr>\n",
       "    <tr>\n",
       "      <th>75%</th>\n",
       "      <td>796.000000</td>\n",
       "      <td>239.000000</td>\n",
       "      <td>37.797280</td>\n",
       "      <td>-122.286533</td>\n",
       "      <td>235.000000</td>\n",
       "      <td>37.797320</td>\n",
       "      <td>-122.288045</td>\n",
       "      <td>5502.000000</td>\n",
       "      <td>1992.000000</td>\n",
       "    </tr>\n",
       "    <tr>\n",
       "      <th>max</th>\n",
       "      <td>85444.000000</td>\n",
       "      <td>398.000000</td>\n",
       "      <td>37.880222</td>\n",
       "      <td>-121.874119</td>\n",
       "      <td>398.000000</td>\n",
       "      <td>37.880222</td>\n",
       "      <td>-121.874119</td>\n",
       "      <td>6645.000000</td>\n",
       "      <td>2001.000000</td>\n",
       "    </tr>\n",
       "  </tbody>\n",
       "</table>\n",
       "</div>"
      ],
      "text/plain": [
       "        duration_sec  start_station_id  start_station_latitude  \\\n",
       "count  183412.000000     183215.000000           183412.000000   \n",
       "mean      726.078435        138.590427               37.771223   \n",
       "std      1794.389780        111.778864                0.099581   \n",
       "min        61.000000          3.000000               37.317298   \n",
       "25%       325.000000         47.000000               37.770083   \n",
       "50%       514.000000        104.000000               37.780760   \n",
       "75%       796.000000        239.000000               37.797280   \n",
       "max     85444.000000        398.000000               37.880222   \n",
       "\n",
       "       start_station_longitude  end_station_id  end_station_latitude  \\\n",
       "count            183412.000000   183215.000000         183412.000000   \n",
       "mean               -122.352664      136.249123             37.771427   \n",
       "std                   0.117097      111.515131              0.099490   \n",
       "min                -122.453704        3.000000             37.317298   \n",
       "25%                -122.412408       44.000000             37.770407   \n",
       "50%                -122.398285      100.000000             37.781010   \n",
       "75%                -122.286533      235.000000             37.797320   \n",
       "max                -121.874119      398.000000             37.880222   \n",
       "\n",
       "       end_station_longitude        bike_id  member_birth_year  \n",
       "count          183412.000000  183412.000000      175147.000000  \n",
       "mean             -122.352250    4472.906375        1984.806437  \n",
       "std                 0.116673    1664.383394          10.116689  \n",
       "min              -122.453704      11.000000        1878.000000  \n",
       "25%              -122.411726    3777.000000        1980.000000  \n",
       "50%              -122.398279    4958.000000        1987.000000  \n",
       "75%              -122.288045    5502.000000        1992.000000  \n",
       "max              -121.874119    6645.000000        2001.000000  "
      ]
     },
     "execution_count": 8,
     "metadata": {},
     "output_type": "execute_result"
    }
   ],
   "source": [
    "# check the summary of the quatitative data\n",
    "bike_df.describe()"
   ]
  },
  {
   "cell_type": "markdown",
   "metadata": {},
   "source": []
  },
  {
   "cell_type": "markdown",
   "metadata": {},
   "source": [
    "## Data Quality Issues\n",
    "\n",
    "- **Columns : Issues**\n",
    "- **start_time** : Incorrect datatype. Should be datetime format not string\n",
    "- **end_time** : Incorrect datatype. Should be datetime format not string\n",
    "- **start_station_id** : Incorrect datatype. Should be string format not float\n",
    "- **end_station_id** : Incorrect datatype. Should be string format not float\n",
    "- **bike_id** : Incorrect datatype. Should be string not integer.\n",
    "- **member_birth_year** : Incorrect datatype. Should be string not float. (We would perform some operations where we would need to convert it to integer first).\n",
    "- **member_birth_year** : The minimum vaue in the year column is **1878**, this is impossible as it would imply the person is **141**. This must be an incorrect data entry. During visual assessment using microsoft excel, I discovered there are people with birth years, 1920, 1910 and even below. I do not have any supporting data to check if correct hence I would take no action on this.\n",
    "- Multiple null values that could affect my analysis."
   ]
  },
  {
   "cell_type": "code",
   "execution_count": 9,
   "metadata": {},
   "outputs": [],
   "source": [
    "# Create a new copy of the dataframe\n",
    "bike_df_clean = bike_df.copy()"
   ]
  },
  {
   "cell_type": "code",
   "execution_count": 10,
   "metadata": {},
   "outputs": [],
   "source": [
    "# drop rows with na values\n",
    "bike_df_clean = bike_df_clean.dropna()"
   ]
  },
  {
   "cell_type": "code",
   "execution_count": 11,
   "metadata": {},
   "outputs": [
    {
     "name": "stdout",
     "output_type": "stream",
     "text": [
      "<class 'pandas.core.frame.DataFrame'>\n",
      "Int64Index: 174952 entries, 0 to 183411\n",
      "Data columns (total 16 columns):\n",
      " #   Column                   Non-Null Count   Dtype  \n",
      "---  ------                   --------------   -----  \n",
      " 0   duration_sec             174952 non-null  int64  \n",
      " 1   start_time               174952 non-null  object \n",
      " 2   end_time                 174952 non-null  object \n",
      " 3   start_station_id         174952 non-null  float64\n",
      " 4   start_station_name       174952 non-null  object \n",
      " 5   start_station_latitude   174952 non-null  float64\n",
      " 6   start_station_longitude  174952 non-null  float64\n",
      " 7   end_station_id           174952 non-null  float64\n",
      " 8   end_station_name         174952 non-null  object \n",
      " 9   end_station_latitude     174952 non-null  float64\n",
      " 10  end_station_longitude    174952 non-null  float64\n",
      " 11  bike_id                  174952 non-null  int64  \n",
      " 12  user_type                174952 non-null  object \n",
      " 13  member_birth_year        174952 non-null  float64\n",
      " 14  member_gender            174952 non-null  object \n",
      " 15  bike_share_for_all_trip  174952 non-null  object \n",
      "dtypes: float64(7), int64(2), object(7)\n",
      "memory usage: 22.7+ MB\n"
     ]
    }
   ],
   "source": [
    "bike_df_clean.info()"
   ]
  },
  {
   "cell_type": "markdown",
   "metadata": {},
   "source": [
    "**Define**<br>\n",
    "I would change all the datatypes to the appropriate ones using astype() method."
   ]
  },
  {
   "cell_type": "markdown",
   "metadata": {},
   "source": [
    "**Code**"
   ]
  },
  {
   "cell_type": "code",
   "execution_count": 12,
   "metadata": {},
   "outputs": [],
   "source": [
    "# Create dataframe of column and matching new datatype\n",
    "new= {'start_time': 'datetime64', \n",
    "        'end_time': 'datetime64',\n",
    "        'start_station_id': 'object',\n",
    "        'end_station_id': 'object',\n",
    "        'bike_id': 'object',\n",
    "        'member_birth_year' : 'object'}\n",
    "\n",
    "# Change datatype\n",
    "bike_df_clean = bike_df_clean.astype(new)"
   ]
  },
  {
   "cell_type": "markdown",
   "metadata": {},
   "source": [
    "**Test**"
   ]
  },
  {
   "cell_type": "code",
   "execution_count": 13,
   "metadata": {},
   "outputs": [
    {
     "name": "stdout",
     "output_type": "stream",
     "text": [
      "<class 'pandas.core.frame.DataFrame'>\n",
      "Int64Index: 174952 entries, 0 to 183411\n",
      "Data columns (total 16 columns):\n",
      " #   Column                   Non-Null Count   Dtype         \n",
      "---  ------                   --------------   -----         \n",
      " 0   duration_sec             174952 non-null  int64         \n",
      " 1   start_time               174952 non-null  datetime64[ns]\n",
      " 2   end_time                 174952 non-null  datetime64[ns]\n",
      " 3   start_station_id         174952 non-null  object        \n",
      " 4   start_station_name       174952 non-null  object        \n",
      " 5   start_station_latitude   174952 non-null  float64       \n",
      " 6   start_station_longitude  174952 non-null  float64       \n",
      " 7   end_station_id           174952 non-null  object        \n",
      " 8   end_station_name         174952 non-null  object        \n",
      " 9   end_station_latitude     174952 non-null  float64       \n",
      " 10  end_station_longitude    174952 non-null  float64       \n",
      " 11  bike_id                  174952 non-null  object        \n",
      " 12  user_type                174952 non-null  object        \n",
      " 13  member_birth_year        174952 non-null  object        \n",
      " 14  member_gender            174952 non-null  object        \n",
      " 15  bike_share_for_all_trip  174952 non-null  object        \n",
      "dtypes: datetime64[ns](2), float64(4), int64(1), object(9)\n",
      "memory usage: 22.7+ MB\n"
     ]
    }
   ],
   "source": [
    "bike_df_clean.info()"
   ]
  },
  {
   "cell_type": "code",
   "execution_count": 14,
   "metadata": {},
   "outputs": [
    {
     "data": {
      "text/html": [
       "<div>\n",
       "<style scoped>\n",
       "    .dataframe tbody tr th:only-of-type {\n",
       "        vertical-align: middle;\n",
       "    }\n",
       "\n",
       "    .dataframe tbody tr th {\n",
       "        vertical-align: top;\n",
       "    }\n",
       "\n",
       "    .dataframe thead th {\n",
       "        text-align: right;\n",
       "    }\n",
       "</style>\n",
       "<table border=\"1\" class=\"dataframe\">\n",
       "  <thead>\n",
       "    <tr style=\"text-align: right;\">\n",
       "      <th></th>\n",
       "      <th>duration_sec</th>\n",
       "      <th>start_station_latitude</th>\n",
       "      <th>start_station_longitude</th>\n",
       "      <th>end_station_latitude</th>\n",
       "      <th>end_station_longitude</th>\n",
       "    </tr>\n",
       "  </thead>\n",
       "  <tbody>\n",
       "    <tr>\n",
       "      <th>count</th>\n",
       "      <td>174952.000000</td>\n",
       "      <td>174952.000000</td>\n",
       "      <td>174952.000000</td>\n",
       "      <td>174952.000000</td>\n",
       "      <td>174952.000000</td>\n",
       "    </tr>\n",
       "    <tr>\n",
       "      <th>mean</th>\n",
       "      <td>704.002744</td>\n",
       "      <td>37.771220</td>\n",
       "      <td>-122.351760</td>\n",
       "      <td>37.771414</td>\n",
       "      <td>-122.351335</td>\n",
       "    </tr>\n",
       "    <tr>\n",
       "      <th>std</th>\n",
       "      <td>1642.204905</td>\n",
       "      <td>0.100391</td>\n",
       "      <td>0.117732</td>\n",
       "      <td>0.100295</td>\n",
       "      <td>0.117294</td>\n",
       "    </tr>\n",
       "    <tr>\n",
       "      <th>min</th>\n",
       "      <td>61.000000</td>\n",
       "      <td>37.317298</td>\n",
       "      <td>-122.453704</td>\n",
       "      <td>37.317298</td>\n",
       "      <td>-122.453704</td>\n",
       "    </tr>\n",
       "    <tr>\n",
       "      <th>25%</th>\n",
       "      <td>323.000000</td>\n",
       "      <td>37.770407</td>\n",
       "      <td>-122.411901</td>\n",
       "      <td>37.770407</td>\n",
       "      <td>-122.411647</td>\n",
       "    </tr>\n",
       "    <tr>\n",
       "      <th>50%</th>\n",
       "      <td>510.000000</td>\n",
       "      <td>37.780760</td>\n",
       "      <td>-122.398279</td>\n",
       "      <td>37.781010</td>\n",
       "      <td>-122.397437</td>\n",
       "    </tr>\n",
       "    <tr>\n",
       "      <th>75%</th>\n",
       "      <td>789.000000</td>\n",
       "      <td>37.797320</td>\n",
       "      <td>-122.283093</td>\n",
       "      <td>37.797673</td>\n",
       "      <td>-122.286533</td>\n",
       "    </tr>\n",
       "    <tr>\n",
       "      <th>max</th>\n",
       "      <td>84548.000000</td>\n",
       "      <td>37.880222</td>\n",
       "      <td>-121.874119</td>\n",
       "      <td>37.880222</td>\n",
       "      <td>-121.874119</td>\n",
       "    </tr>\n",
       "  </tbody>\n",
       "</table>\n",
       "</div>"
      ],
      "text/plain": [
       "        duration_sec  start_station_latitude  start_station_longitude  \\\n",
       "count  174952.000000           174952.000000            174952.000000   \n",
       "mean      704.002744               37.771220              -122.351760   \n",
       "std      1642.204905                0.100391                 0.117732   \n",
       "min        61.000000               37.317298              -122.453704   \n",
       "25%       323.000000               37.770407              -122.411901   \n",
       "50%       510.000000               37.780760              -122.398279   \n",
       "75%       789.000000               37.797320              -122.283093   \n",
       "max     84548.000000               37.880222              -121.874119   \n",
       "\n",
       "       end_station_latitude  end_station_longitude  \n",
       "count         174952.000000          174952.000000  \n",
       "mean              37.771414            -122.351335  \n",
       "std                0.100295               0.117294  \n",
       "min               37.317298            -122.453704  \n",
       "25%               37.770407            -122.411647  \n",
       "50%               37.781010            -122.397437  \n",
       "75%               37.797673            -122.286533  \n",
       "max               37.880222            -121.874119  "
      ]
     },
     "execution_count": 14,
     "metadata": {},
     "output_type": "execute_result"
    }
   ],
   "source": [
    "bike_df_clean.describe()"
   ]
  },
  {
   "cell_type": "markdown",
   "metadata": {},
   "source": [
    "### What is the structure of your dataset?\n",
    "\n",
    "> There are 183,412 rows and 16 columns in the dataset. There is no duplicates in the dataset\n",
    "\n",
    "### What is/are the main feature(s) of interest in your dataset?\n",
    "\n",
    "> I want to see if there is a particular trend with the duration used per trip and the time the trip took place. I also need to see what customer type are regular and the factors that determine this features.\n",
    "\n",
    "### What features in the dataset do you think will help support your investigation into your feature(s) of interest?\n",
    "\n",
    "> The start_time, duration, member_year, and user_type columns would come in handy."
   ]
  },
  {
   "cell_type": "markdown",
   "metadata": {},
   "source": [
    "## Univariate Exploration\n",
    "\n",
    "> In this section, investigate distributions of individual variables. If\n",
    "you see unusual points or outliers, take a deeper look to clean things up\n",
    "and prepare yourself to look at relationships between variables.\n",
    "\n",
    "\n",
    "> **Rubric Tip**: The project (Parts I alone) should have at least 15 visualizations distributed over univariate, bivariate, and multivariate plots to explore many relationships in the data set.  Use reasoning to justify the flow of the exploration.\n",
    "\n",
    "\n",
    "\n",
    ">**Rubric Tip**: Use the \"Question-Visualization-Observations\" framework  throughout the exploration. This framework involves **asking a question from the data, creating a visualization to find answers, and then recording observations after each visualisation.** \n"
   ]
  },
  {
   "cell_type": "markdown",
   "metadata": {},
   "source": [
    "### Distribution of the Duration in secs"
   ]
  },
  {
   "cell_type": "code",
   "execution_count": 15,
   "metadata": {},
   "outputs": [
    {
     "data": {
      "image/png": "[encoded data removed]",
      "text/plain": [
       "<Figure size 432x288 with 1 Axes>"
      ]
     },
     "metadata": {
      "needs_background": "light"
     },
     "output_type": "display_data"
    }
   ],
   "source": [
    "# Plot a histogram\n",
    "plt.hist(data = bike_df_clean, x='duration_sec', bins = 20);"
   ]
  },
  {
   "cell_type": "markdown",
   "metadata": {},
   "source": [
    "The distribution of the duration data is right skewed with a lot of outliers. I will show that better in the next few visualizations"
   ]
  },
  {
   "cell_type": "code",
   "execution_count": 16,
   "metadata": {},
   "outputs": [
    {
     "data": {
      "text/plain": [
       "count    174952.000000\n",
       "mean        704.002744\n",
       "std        1642.204905\n",
       "min          61.000000\n",
       "25%         323.000000\n",
       "50%         510.000000\n",
       "75%         789.000000\n",
       "max       84548.000000\n",
       "Name: duration_sec, dtype: float64"
      ]
     },
     "execution_count": 16,
     "metadata": {},
     "output_type": "execute_result"
    }
   ],
   "source": [
    "bike_df_clean.duration_sec.describe()"
   ]
  },
  {
   "cell_type": "code",
   "execution_count": 17,
   "metadata": {},
   "outputs": [
    {
     "data": {
      "text/plain": [
       "count    5.242919\n",
       "mean     2.847574\n",
       "std      3.215427\n",
       "min      1.785330\n",
       "25%      2.509203\n",
       "50%      2.707570\n",
       "75%      2.897077\n",
       "max      4.927103\n",
       "Name: duration_sec, dtype: float64"
      ]
     },
     "execution_count": 17,
     "metadata": {},
     "output_type": "execute_result"
    }
   ],
   "source": [
    "np.log10(bike_df_clean.duration_sec.describe())"
   ]
  },
  {
   "cell_type": "markdown",
   "metadata": {},
   "source": [
    "From the summary above, we can see that most of the records fall between 61s to 796s. Very high values are outliers and tend to skew the data. Now I will plot the data distribution on a log scale."
   ]
  },
  {
   "cell_type": "code",
   "execution_count": 18,
   "metadata": {},
   "outputs": [
    {
     "data": {
      "image/png": "[encoded data removed]",
      "text/plain": [
       "<Figure size 432x288 with 1 Axes>"
      ]
     },
     "metadata": {
      "needs_background": "light"
     },
     "output_type": "display_data"
    }
   ],
   "source": [
    "log_bin = 0.1\n",
    "max_log = np.log10(bike_df_clean.duration_sec.max())\n",
    "bins = 10 ** np.arange(0, max_log + log_bin, log_bin)\n",
    "\n",
    "plt.hist(data = bike_df_clean, x='duration_sec', bins = bins)\n",
    "plt.xscale('log')\n",
    "plt.xticks([50, 100, 250, 500, 1e3, 2e3, 5e3, 1e4], ['50', '100','250', '500', '1k', '2k', '5k', '10k'])\n",
    "plt.xlim(50, 1e4)\n",
    "plt.xlabel('Duration in seconds');"
   ]
  },
  {
   "cell_type": "code",
   "execution_count": 19,
   "metadata": {},
   "outputs": [],
   "source": [
    "import datetime\n",
    " \n",
    "# function to convert seconds to time    \n",
    "def convert(n):\n",
    "    return str(datetime.timedelta(seconds = n))\n",
    "\n",
    "# convert seconds to time. Returns string of time\n",
    "bike_df_clean['duration_time'] = bike_df_clean['duration_sec'].apply(convert)\n",
    "\n",
    "# convert string of time to time format\n",
    "bike_df_clean['duration_time'] = pd.to_datetime(bike_df_clean['duration_time'],format= '%H:%M:%S' ).dt.time\n",
    "\n",
    "# extract duration in hours\n",
    "bike_df_clean['duration_hour'] = pd.to_datetime(bike_df_clean['duration_time'],format= '%H:%M:%S' ).dt.hour\n",
    "\n",
    "# Extract duration in minutes\n",
    "bike_df_clean['duration_minute'] = bike_df_clean['duration_sec'].apply(lambda x : x // 60)"
   ]
  },
  {
   "cell_type": "code",
   "execution_count": 20,
   "metadata": {},
   "outputs": [
    {
     "name": "stdout",
     "output_type": "stream",
     "text": [
      "<class 'pandas.core.frame.DataFrame'>\n",
      "Int64Index: 174952 entries, 0 to 183411\n",
      "Data columns (total 19 columns):\n",
      " #   Column                   Non-Null Count   Dtype         \n",
      "---  ------                   --------------   -----         \n",
      " 0   duration_sec             174952 non-null  int64         \n",
      " 1   start_time               174952 non-null  datetime64[ns]\n",
      " 2   end_time                 174952 non-null  datetime64[ns]\n",
      " 3   start_station_id         174952 non-null  object        \n",
      " 4   start_station_name       174952 non-null  object        \n",
      " 5   start_station_latitude   174952 non-null  float64       \n",
      " 6   start_station_longitude  174952 non-null  float64       \n",
      " 7   end_station_id           174952 non-null  object        \n",
      " 8   end_station_name         174952 non-null  object        \n",
      " 9   end_station_latitude     174952 non-null  float64       \n",
      " 10  end_station_longitude    174952 non-null  float64       \n",
      " 11  bike_id                  174952 non-null  object        \n",
      " 12  user_type                174952 non-null  object        \n",
      " 13  member_birth_year        174952 non-null  object        \n",
      " 14  member_gender            174952 non-null  object        \n",
      " 15  bike_share_for_all_trip  174952 non-null  object        \n",
      " 16  duration_time            174952 non-null  object        \n",
      " 17  duration_hour            174952 non-null  int64         \n",
      " 18  duration_minute          174952 non-null  int64         \n",
      "dtypes: datetime64[ns](2), float64(4), int64(3), object(10)\n",
      "memory usage: 26.7+ MB\n"
     ]
    }
   ],
   "source": [
    "bike_df_clean.info()"
   ]
  },
  {
   "cell_type": "markdown",
   "metadata": {},
   "source": [
    "### Duration in minutes"
   ]
  },
  {
   "cell_type": "code",
   "execution_count": 21,
   "metadata": {},
   "outputs": [
    {
     "data": {
      "text/plain": [
       "(0.0, 200.0)"
      ]
     },
     "execution_count": 21,
     "metadata": {},
     "output_type": "execute_result"
    },
    {
     "data": {
      "image/png": "[encoded data removed]",
      "text/plain": [
       "<Figure size 432x288 with 1 Axes>"
      ]
     },
     "metadata": {
      "needs_background": "light"
     },
     "output_type": "display_data"
    }
   ],
   "source": [
    "plt.hist(data=bike_df_clean, x = 'duration_minute', bins = 200)\n",
    "plt.xlim(0,200)"
   ]
  },
  {
   "cell_type": "code",
   "execution_count": 22,
   "metadata": {},
   "outputs": [
    {
     "data": {
      "image/png": "[encoded data removed]",
      "text/plain": [
       "<Figure size 432x288 with 1 Axes>"
      ]
     },
     "metadata": {
      "needs_background": "light"
     },
     "output_type": "display_data"
    }
   ],
   "source": [
    "log_bin = 0.1\n",
    "max_log = np.log10(bike_df_clean.duration_hour.max())\n",
    "bins = 10 ** np.arange(0, max_log + log_bin, log_bin)\n",
    "\n",
    "plt.hist(data = bike_df_clean, x='duration_minute', bins = bins)\n",
    "plt.xscale('log')\n",
    "plt.xticks([1, 5, 10, 15, 20, 50, 200], ['1', '5', '10', '15', '20', '50', '200'])\n",
    "#plt.xlim(1, 25)\n",
    "plt.xlabel('Duration in minutes');"
   ]
  },
  {
   "cell_type": "markdown",
   "metadata": {},
   "source": [
    "### Most common Trip time"
   ]
  },
  {
   "cell_type": "code",
   "execution_count": 23,
   "metadata": {},
   "outputs": [],
   "source": [
    "# create hour column \n",
    "bike_df_clean['hour'] = bike_df_clean['start_time'].dt.hour\n",
    "\n",
    "\n",
    "def time_period(hour):\n",
    "    \"\"\"\" fuction to segregate the time period \"\"\"\n",
    "    if 0 <= hour < 5:\n",
    "        return ('Midnight')\n",
    "    elif 5 <= hour < 9:\n",
    "        return ('Early Morning')\n",
    "    elif 9 <= hour < 12:\n",
    "        return ('Morning')\n",
    "    elif 12 <= hour < 17:\n",
    "        return ('Afternoon')\n",
    "    elif 17 <= hour < 20:\n",
    "        return ('Evening')\n",
    "    elif 20 <= hour <= 23:\n",
    "        return ('Night')\n",
    "    \n",
    "    \n",
    "# Create period column\n",
    "bike_df_clean['period'] = bike_df_clean.hour.apply(time_period)"
   ]
  },
  {
   "cell_type": "code",
   "execution_count": 24,
   "metadata": {},
   "outputs": [],
   "source": [
    "# order the period column\n",
    "periods = ['Midnight', 'Early Morning', 'Morning', 'Afternoon', 'Evening', 'Night']\n",
    "ordered = pd.api.types.CategoricalDtype(ordered = True, categories = periods)\n",
    "bike_df_clean['period'] = bike_df_clean['period'].astype(ordered)"
   ]
  },
  {
   "cell_type": "code",
   "execution_count": 25,
   "metadata": {},
   "outputs": [
    {
     "data": {
      "text/plain": [
       "Text(0.5, 0, 'Time Period')"
      ]
     },
     "execution_count": 25,
     "metadata": {},
     "output_type": "execute_result"
    },
    {
     "data": {
      "image/png": "[encoded data removed]",
      "text/plain": [
       "<Figure size 1440x360 with 2 Axes>"
      ]
     },
     "metadata": {
      "needs_background": "light"
     },
     "output_type": "display_data"
    }
   ],
   "source": [
    "# create a figure\n",
    "plt.figure(figsize = [20,5])\n",
    "\n",
    "# create order for the hour. arange won't include the last number\n",
    "h_order = np.arange(0, 24)\n",
    "\n",
    "# create base color\n",
    "base_color = sns.color_palette()[0]\n",
    "\n",
    "# create first subplot. A barchart showing the frequency of the hours\n",
    "plt.subplot(1,2,1)\n",
    "sns.countplot(data=bike_df_clean, x = 'hour', order = h_order, color = base_color)\n",
    "plt.xlabel('hour')\n",
    "\n",
    "\n",
    "# create second subplot. A barchart showing the frequency of the periods\n",
    "plt.subplot(1,2,2)\n",
    "sns.countplot(data=bike_df_clean, x = 'period', color = base_color)\n",
    "plt.xlabel('Time Period')"
   ]
  },
  {
   "cell_type": "code",
   "execution_count": 26,
   "metadata": {},
   "outputs": [
    {
     "data": {
      "text/plain": [
       "Evening          46446\n",
       "Afternoon        46114\n",
       "Early Morning    34617\n",
       "Morning          30635\n",
       "Night            14976\n",
       "Midnight          2164\n",
       "Name: period, dtype: int64"
      ]
     },
     "execution_count": 26,
     "metadata": {},
     "output_type": "execute_result"
    }
   ],
   "source": [
    "bike_df_clean.period.value_counts()"
   ]
  },
  {
   "cell_type": "markdown",
   "metadata": {},
   "source": [
    "<a id='day'></a>\n",
    "### Day of week "
   ]
  },
  {
   "cell_type": "code",
   "execution_count": 27,
   "metadata": {},
   "outputs": [
    {
     "data": {
      "image/png": "[encoded data removed]",
      "text/plain": [
       "<Figure size 432x288 with 1 Axes>"
      ]
     },
     "metadata": {
      "needs_background": "light"
     },
     "output_type": "display_data"
    }
   ],
   "source": [
    "# create day column \n",
    "bike_df_clean['day'] = bike_df_clean['start_time'].dt.day_name()\n",
    "\n",
    "# order the day column\n",
    "days = ['Monday', 'Tuesday', 'Wednesday', 'Thursday', 'Friday', 'Saturday', 'Sunday']\n",
    "ordered = pd.api.types.CategoricalDtype(ordered = True, categories = days)\n",
    "bike_df_clean['day'] = bike_df_clean['day'].astype(ordered)\n",
    "\n",
    "# BAr chart for days\n",
    "sns.countplot(data=bike_df_clean, x = 'day', color = base_color);\n",
    "plt.xlabel('Day of Week');\n",
    "plt.xticks(rotation = 20);\n",
    "\n"
   ]
  },
  {
   "cell_type": "markdown",
   "metadata": {},
   "source": [
    "### Month"
   ]
  },
  {
   "cell_type": "code",
   "execution_count": 28,
   "metadata": {},
   "outputs": [
    {
     "data": {
      "image/png": "[encoded data removed]",
      "text/plain": [
       "<Figure size 432x288 with 1 Axes>"
      ]
     },
     "metadata": {
      "needs_background": "light"
     },
     "output_type": "display_data"
    }
   ],
   "source": [
    "# create month column \n",
    "bike_df_clean['month'] = bike_df_clean['start_time'].dt.month_name()\n",
    "\n",
    "# order the month column\n",
    "months = ['January', 'February', 'March', 'April', 'May', 'June', 'July', 'August', 'September', 'October', 'November', 'December']\n",
    "ordered = pd.api.types.CategoricalDtype(ordered = True, categories = months)\n",
    "bike_df_clean['month'] = bike_df_clean['month'].astype(ordered)\n",
    "\n",
    "# Bar chart for months\n",
    "sns.countplot(data=bike_df_clean, y = 'month', color = base_color);\n",
    "plt.xlabel('Months of Year');"
   ]
  },
  {
   "cell_type": "code",
   "execution_count": 29,
   "metadata": {},
   "outputs": [
    {
     "data": {
      "text/plain": [
       "February     174952\n",
       "January           0\n",
       "March             0\n",
       "April             0\n",
       "May               0\n",
       "June              0\n",
       "July              0\n",
       "August            0\n",
       "September         0\n",
       "October           0\n",
       "November          0\n",
       "December          0\n",
       "Name: month, dtype: int64"
      ]
     },
     "execution_count": 29,
     "metadata": {},
     "output_type": "execute_result"
    }
   ],
   "source": [
    "bike_df_clean.month.value_counts()"
   ]
  },
  {
   "cell_type": "markdown",
   "metadata": {},
   "source": [
    "The data is only for the month of February"
   ]
  },
  {
   "cell_type": "markdown",
   "metadata": {},
   "source": [
    "### Member Birth Year and Age"
   ]
  },
  {
   "cell_type": "code",
   "execution_count": 30,
   "metadata": {},
   "outputs": [
    {
     "data": {
      "text/plain": [
       "1988.0    10214\n",
       "1993.0     9323\n",
       "1989.0     8967\n",
       "1990.0     8640\n",
       "1991.0     8484\n",
       "1992.0     8245\n",
       "1987.0     8010\n",
       "1986.0     7953\n",
       "1994.0     7654\n",
       "1995.0     7420\n",
       "Name: member_birth_year, dtype: int64"
      ]
     },
     "execution_count": 30,
     "metadata": {},
     "output_type": "execute_result"
    }
   ],
   "source": [
    "bike_df_clean.member_birth_year.value_counts().nlargest(10)"
   ]
  },
  {
   "cell_type": "code",
   "execution_count": 33,
   "metadata": {},
   "outputs": [
    {
     "data": {
      "image/png": "[encoded data removed]",
      "text/plain": [
       "<Figure size 1440x360 with 2 Axes>"
      ]
     },
     "metadata": {
      "needs_background": "light"
     },
     "output_type": "display_data"
    }
   ],
   "source": [
    "# extract age from birth year\n",
    "bike_df_clean['member_age'] = bike_df_clean['member_birth_year'].apply(lambda x : 2022 - int(x))\n",
    "\n",
    "# plot age distribution\n",
    "plt.figure(figsize=[20,5])\n",
    "\n",
    "plt.subplot(1,2,1)\n",
    "plt.hist(data = bike_df_clean, x = 'member_age', bins = 20)\n",
    "plt.xlabel('Age')\n",
    "\n",
    "\n",
    "plt.subplot(1,2,2)\n",
    "plt.hist(data = bike_df_clean, x = 'member_age', bins = 30);\n",
    "plt.xticks([0, 10, 20, 30, 40, 50, 60, 70, 80, 90, 100],\n",
    "            ['0', '10', '20', '30', '40', '50', '60', '70', '80', '90', '100'])\n",
    "plt.xlim(0,100);\n",
    "plt.xlabel('Age');"
   ]
  },
  {
   "cell_type": "markdown",
   "metadata": {},
   "source": [
    "> The distribution is skewed to the right with some outliers. The most populated age group is between 20-40. This represents a young generation and they are still agile and fit to ride bikes."
   ]
  },
  {
   "cell_type": "markdown",
   "metadata": {},
   "source": [
    "### Member Gender"
   ]
  },
  {
   "cell_type": "code",
   "execution_count": 448,
   "metadata": {},
   "outputs": [],
   "source": [
    "\n",
    "def cat_plot(column):\n",
    "    \"\"\" function to plot attributes with not more than three categories \"\"\"\n",
    "    # Create figure\n",
    "    plt.figure(figsize=[20,5])\n",
    "\n",
    "    # sort values\n",
    "    arranged = bike_df_clean[column].value_counts()\n",
    "\n",
    "    # plot pie chart on first subplot\n",
    "    plt.subplot(1,2,1)\n",
    "    plt.pie(arranged, labels = arranged.index, startangle = 90,\n",
    "            counterclock = False, autopct='%1.2f%%');\n",
    "    plt.axis('square')\n",
    "    plt.title(column + ' Comparison', fontsize=15);\n",
    "\n",
    "    \n",
    "    \n",
    "    # order the column and get the index\n",
    "    orders = bike_df_clean[column].value_counts().index\n",
    "    \n",
    "    #set the colors, using pie chart shouldn't be for more that three atrributes, hence I will set only three colors\n",
    "    color1 = sns.color_palette()[0]\n",
    "    color2 = sns.color_palette()[1]\n",
    "    color3 = sns.color_palette()[2]\n",
    "    \n",
    "    # plot bar chart on second subplot\n",
    "    plt.subplot(1,2,2)\n",
    "    sns.countplot(data = bike_df_clean, x = column, order = orders, palette = [color1, color2, color3]);"
   ]
  },
  {
   "cell_type": "code",
   "execution_count": 431,
   "metadata": {},
   "outputs": [
    {
     "data": {
      "image/png": "[encoded data removed]",
      "text/plain": [
       "<Figure size 1440x360 with 2 Axes>"
      ]
     },
     "metadata": {
      "needs_background": "light"
     },
     "output_type": "display_data"
    }
   ],
   "source": [
    "# plot for member gender\n",
    "cat_plot('member_gender')"
   ]
  },
  {
   "cell_type": "markdown",
   "metadata": {},
   "source": [
    "> Most of the users are Male and they take up more than 70% of the total records. The are more than two times the populatio of the female"
   ]
  },
  {
   "cell_type": "markdown",
   "metadata": {},
   "source": [
    "<a id='user'></a>\n",
    "### User type"
   ]
  },
  {
   "cell_type": "code",
   "execution_count": 432,
   "metadata": {},
   "outputs": [
    {
     "data": {
      "image/png": "[encoded data removed]",
      "text/plain": [
       "<Figure size 1440x360 with 2 Axes>"
      ]
     },
     "metadata": {
      "needs_background": "light"
     },
     "output_type": "display_data"
    }
   ],
   "source": [
    "cat_plot('user_type')"
   ]
  },
  {
   "cell_type": "markdown",
   "metadata": {},
   "source": [
    "\n",
    "\n",
    ">**Rubric Tip**: Visualizations should depict the data appropriately so that the plots are easily interpretable. You should choose an appropriate plot type, data encodings, and formatting as needed. The formatting may include setting/adding the title, labels, legend, and comments. Also, do not overplot or incorrectly plot ordinal data."
   ]
  },
  {
   "cell_type": "markdown",
   "metadata": {},
   "source": [
    "### Discuss the distribution(s) of your variable(s) of interest. Were there any unusual points? Did you need to perform any transformations?\n",
    "\n",
    "> The Start time of ride was not really suprising. It peaked at 8am and 5pm and I would believe this is due to the rush hour for people going to and returning from work respectively.\n",
    "\n",
    "### Of the features you investigated, were there any unusual distributions? Did you perform any operations on the data to tidy, adjust, or change the form of the data? If so, why did you do this?\n",
    "\n",
    "> I created a column for the duration in minutes. People tend to relate easily well with minutes, and this will make my exploration easier to understand.\n",
    "\n",
    "> The Duration was overly skewed and I had to perform a log transformation on it in order to have a normal like distribution view of it\n",
    "\n",
    "> From the member_birth_year column, I was able to create a new column for the member ages, in order to perform some operations and unerstand the data better."
   ]
  },
  {
   "cell_type": "markdown",
   "metadata": {},
   "source": [
    "## Bivariate Exploration\n",
    "\n",
    "> In this section, investigate relationships between pairs of variables in your\n",
    "data. Make sure the variables that you cover here have been introduced in some\n",
    "fashion in the previous section (univariate exploration)."
   ]
  },
  {
   "cell_type": "markdown",
   "metadata": {},
   "source": [
    "I will be exploring the start time of ride and the duration of ride against other variables to see if thie attributes are dependent attributes on the rest."
   ]
  },
  {
   "cell_type": "markdown",
   "metadata": {},
   "source": [
    "### Duration and gender\n",
    "**Does gender affect the duration of ride?**"
   ]
  },
  {
   "cell_type": "markdown",
   "metadata": {},
   "source": [
    "I have one numerical data against a categorial data, so I will be using first a boxplot to see the statistics of each category."
   ]
  },
  {
   "cell_type": "code",
   "execution_count": 433,
   "metadata": {},
   "outputs": [
    {
     "data": {
      "image/png": "[encoded data removed]",
      "text/plain": [
       "<Figure size 1440x360 with 2 Axes>"
      ]
     },
     "metadata": {
      "needs_background": "light"
     },
     "output_type": "display_data"
    }
   ],
   "source": [
    "# plot boxplox\n",
    "plt.figure(figsize = [20, 5])\n",
    "\n",
    "plt.subplot(1,2,1)\n",
    "sns.boxplot(data = bike_df_clean, x = 'member_gender', y = 'duration_minute', palette = [color1, color3, color2]);\n",
    "\n",
    "color1 = sns.color_palette()[0]\n",
    "color2 = sns.color_palette()[1]\n",
    "color3 = sns.color_palette()[2]\n",
    "\n",
    "# A clearer view\n",
    "plt.subplot(1,2,2)\n",
    "sns.boxplot(data = bike_df_clean, x = 'member_gender', y = 'duration_minute', palette = [color1, color3, color2])\n",
    "plt.ylim(0, 30);"
   ]
  },
  {
   "cell_type": "code",
   "execution_count": 434,
   "metadata": {},
   "outputs": [
    {
     "data": {
      "image/png": "[encoded data removed]",
      "text/plain": [
       "<Figure size 432x288 with 1 Axes>"
      ]
     },
     "metadata": {
      "needs_background": "light"
     },
     "output_type": "display_data"
    }
   ],
   "source": [
    "sns.violinplot(data = bike_df_clean, x = 'member_gender', y = 'duration_minute', palette = [color1, color3, color2])\n",
    "plt.yscale('log')\n",
    "plt.yticks([1, 10, 100, 1000], ['1', '10', '100', '1000']);"
   ]
  },
  {
   "cell_type": "code",
   "execution_count": 435,
   "metadata": {},
   "outputs": [
    {
     "data": {
      "text/plain": [
       "<AxesSubplot:xlabel='member_gender', ylabel='duration_minute'>"
      ]
     },
     "execution_count": 435,
     "metadata": {},
     "output_type": "execute_result"
    },
    {
     "data": {
      "image/png": "[encoded data removed]",
      "text/plain": [
       "<Figure size 432x288 with 1 Axes>"
      ]
     },
     "metadata": {
      "needs_background": "light"
     },
     "output_type": "display_data"
    }
   ],
   "source": [
    "sns.barplot(data = bike_df_clean, x = 'member_gender', y = 'duration_minute', palette = [color1, color3, color2])"
   ]
  },
  {
   "cell_type": "markdown",
   "metadata": {},
   "source": [
    "> Even though it seems other have a better statistic than male and female, we can see that the male category has more outliers and this shows that they majorly have a higher ride time span than the remaining two. The 'other' category has fewer records and this could be the cause of its seemingly okay statistics."
   ]
  },
  {
   "cell_type": "markdown",
   "metadata": {},
   "source": [
    "### Duration and Age"
   ]
  },
  {
   "cell_type": "code",
   "execution_count": 437,
   "metadata": {},
   "outputs": [
    {
     "data": {
      "image/png": "[encoded data removed]",
      "text/plain": [
       "<Figure size 432x288 with 1 Axes>"
      ]
     },
     "metadata": {
      "needs_background": "light"
     },
     "output_type": "display_data"
    }
   ],
   "source": [
    "sns.regplot(data = bike_df_clean, x = 'member_age', y = 'duration_minute', fit_reg = False)\n",
    "plt.yscale('log')\n",
    "plt.yticks([1, 10, 100, 1000], ['1', '10', '100', '1000']);"
   ]
  },
  {
   "cell_type": "markdown",
   "metadata": {},
   "source": [
    "> There appears to be a negative correlation as the duration time appears to reduce as the age increases."
   ]
  },
  {
   "cell_type": "markdown",
   "metadata": {},
   "source": [
    "### Duration and Day"
   ]
  },
  {
   "cell_type": "code",
   "execution_count": 438,
   "metadata": {},
   "outputs": [
    {
     "data": {
      "image/png": "[encoded data removed]",
      "text/plain": [
       "<Figure size 432x288 with 1 Axes>"
      ]
     },
     "metadata": {
      "needs_background": "light"
     },
     "output_type": "display_data"
    }
   ],
   "source": [
    "sns.barplot(data = bike_df_clean, x = 'day', y = 'duration_minute', color = sns.color_palette()[0])\n",
    "plt.xticks(rotation = 20);"
   ]
  },
  {
   "cell_type": "markdown",
   "metadata": {},
   "source": [
    "> From the [countplot of the days](#day) shown in my Univariate exploration, we can see that the weekdays account for a greater part of the bike rides taken. The least number of bike rides were taken on saturdays and Sundays. But from this barchart, we can see clearly that even though the number of bike rides were minimum, they were actually longer in those days than the rest of the days. \n",
    "> Also, the average duration for the weekdays are almost equal signifying that people most likely ride for the same purpose (to work) during the week days, and probably for leisure at weekends."
   ]
  },
  {
   "cell_type": "markdown",
   "metadata": {},
   "source": [
    "### Duration and user type"
   ]
  },
  {
   "cell_type": "code",
   "execution_count": 439,
   "metadata": {},
   "outputs": [
    {
     "data": {
      "text/plain": [
       "<AxesSubplot:xlabel='user_type', ylabel='duration_minute'>"
      ]
     },
     "execution_count": 439,
     "metadata": {},
     "output_type": "execute_result"
    },
    {
     "data": {
      "image/png": "[encoded data removed]",
      "text/plain": [
       "<Figure size 432x288 with 1 Axes>"
      ]
     },
     "metadata": {
      "needs_background": "light"
     },
     "output_type": "display_data"
    }
   ],
   "source": [
    "#plot average duration by user_type\n",
    "sns.barplot(data = bike_df_clean, x = 'user_type', y = 'duration_minute', color = sns.color_palette()[0])"
   ]
  },
  {
   "cell_type": "code",
   "execution_count": 442,
   "metadata": {},
   "outputs": [
    {
     "data": {
      "image/png": "[encoded data removed]",
      "text/plain": [
       "<Figure size 432x288 with 1 Axes>"
      ]
     },
     "metadata": {
      "needs_background": "light"
     },
     "output_type": "display_data"
    }
   ],
   "source": [
    "sns.violinplot(data = bike_df_clean, x = 'user_type', y = 'duration_minute', color = sns.color_palette()[0])\n",
    "plt.yscale('log')\n",
    "plt.yticks([1, 10, 100, 1000], ['1', '10', '100', '1000']);"
   ]
  },
  {
   "cell_type": "markdown",
   "metadata": {},
   "source": [
    "> From the [countplot of the user type](#user) shown in my Univariate exploration and even the violin chart above, even though, we have far more rides by subscribers, they do not spend as much time as a customer would."
   ]
  },
  {
   "cell_type": "markdown",
   "metadata": {},
   "source": [
    "### Talk about some of the relationships you observed in this part of the investigation. How did the feature(s) of interest vary with other features in the dataset?\n",
    "\n",
    "> Gender and age almost do not have any effect on the duration of ride.\n",
    "> For the user_type, it shows that the amount of rides in their respective categories does not affect the duration of the rides. \n",
    "> More trips are taken during the weekdays than at weekends. Saturdays and Sundays have the lowest number of trips. People might prefer to take a bike ride to work during the weekdays and ride their personal vehicles at weekends. But the weekends rides are averagely longer than the weekdays ride. People tend to ride longer when it is for leisure \n",
    "\n",
    "### Did you observe any interesting relationships between the other features (not the main feature(s) of interest)?\n",
    "\n",
    "> Weekdays, even though have the highest number of rides, have a levelled average duration and lesser than the rides during the weekends."
   ]
  },
  {
   "cell_type": "markdown",
   "metadata": {},
   "source": [
    "## Multivariate Exploration\n",
    "\n",
    "> Create plots of three or more variables to investigate your data even\n",
    "further. Make sure that your investigations are justified, and follow from\n",
    "your work in the previous sections."
   ]
  },
  {
   "cell_type": "code",
   "execution_count": 444,
   "metadata": {},
   "outputs": [
    {
     "data": {
      "text/plain": [
       "<matplotlib.legend.Legend at 0x259c37776a0>"
      ]
     },
     "execution_count": 444,
     "metadata": {},
     "output_type": "execute_result"
    },
    {
     "data": {
      "image/png": "[encoded data removed]",
      "text/plain": [
       "<Figure size 720x288 with 1 Axes>"
      ]
     },
     "metadata": {
      "needs_background": "light"
     },
     "output_type": "display_data"
    }
   ],
   "source": [
    "plt.figure(figsize=[10, 4])\n",
    "\n",
    "# Duration by Day categorized by user type\n",
    "plt.subplot(1, 2, 1)\n",
    "sns.pointplot(data=bike_df_clean, x='day', y='duration_minute', hue='user_type', errwidth=0)\n",
    "plt.xlabel('Day')\n",
    "plt.ylabel('Duration minute')\n",
    "plt.xticks(rotation = 25)\n",
    "plt.title('Minutes spent per day by User Type')\n",
    "plt.legend(title='User Type')"
   ]
  },
  {
   "cell_type": "markdown",
   "metadata": {},
   "source": [
    ">The time of ride for the subscribers is stable and does not really vary from day to day. But we can see from the chart that the customers time of ride varies with its peak on Sunday and the minimum on Tuesday"
   ]
  },
  {
   "cell_type": "code",
   "execution_count": 445,
   "metadata": {},
   "outputs": [
    {
     "data": {
      "text/plain": [
       "<matplotlib.legend.Legend at 0x259df086fa0>"
      ]
     },
     "execution_count": 445,
     "metadata": {},
     "output_type": "execute_result"
    },
    {
     "data": {
      "image/png": "[encoded data removed]",
      "text/plain": [
       "<Figure size 720x288 with 1 Axes>"
      ]
     },
     "metadata": {
      "needs_background": "light"
     },
     "output_type": "display_data"
    }
   ],
   "source": [
    "color1 = sns.color_palette()[0]\n",
    "color2 = sns.color_palette()[1]\n",
    "color3 = sns.color_palette()[2]\n",
    "\n",
    "\n",
    "\n",
    "plt.figure(figsize=[10, 4])\n",
    "\n",
    "# Duration by Day categorized by user type\n",
    "plt.subplot(1, 2, 1)\n",
    "sns.pointplot(data=bike_df_clean, x='day', y='duration_minute', hue='member_gender', errwidth=0, palette = [color1, color3, color2])\n",
    "plt.xlabel('Day')\n",
    "plt.ylabel('Duration minute')\n",
    "plt.xticks(rotation = 25)\n",
    "plt.title('Minutes spent per day by User Type')\n",
    "plt.legend(title='User Type')"
   ]
  },
  {
   "cell_type": "markdown",
   "metadata": {},
   "source": [
    ">The 'Other' gender ride longer on aerage than the remaining two genders. We can see a continuous increase in the time of ride for female through out the week and even on sunday where the time of ride for the male is dropped."
   ]
  },
  {
   "cell_type": "code",
   "execution_count": 446,
   "metadata": {},
   "outputs": [
    {
     "data": {
      "text/plain": [
       "<AxesSubplot:xlabel='user_type', ylabel='duration_minute'>"
      ]
     },
     "execution_count": 446,
     "metadata": {},
     "output_type": "execute_result"
    },
    {
     "data": {
      "image/png": "[encoded data removed]",
      "text/plain": [
       "<Figure size 432x288 with 1 Axes>"
      ]
     },
     "metadata": {
      "needs_background": "light"
     },
     "output_type": "display_data"
    }
   ],
   "source": [
    "sns.pointplot(data = bike_df_clean, x ='user_type', y = 'duration_minute', hue = 'member_gender',\n",
    "           palette = 'Blues', linestyles = '', dodge = 0.4)"
   ]
  },
  {
   "cell_type": "markdown",
   "metadata": {},
   "source": [
    "### Talk about some of the relationships you observed in this part of the investigation. Were there features that strengthened each other in terms of looking at your feature(s) of interest?\n",
    "\n",
    "> The minutes spent per day by user type, shows clearly that the jump in duration of ride between the weekends and weekdays does not pertain to only one user type, it cuts across the three.\n",
    "\n",
    "### Were there any interesting or surprising interactions between features?\n",
    "\n",
    "> Yes, I noticed the duration of ride for subscribers is almost leveled across the days while that of customers vary."
   ]
  },
  {
   "cell_type": "markdown",
   "metadata": {},
   "source": [
    "## Conclusions\n",
    "> I think it is now safe to say that the Subscribers have a limit to the amount of time they can spend per ride. The time of ride for the Subscribers hardly varies from day to day and they might have to stick to a particular purpose of ride. \n",
    "\n",
    "> Customers on the other hand are at ease of time. They might not have time limit, and if they do, it won't be as less as the Subscribers'. Their time f ride varies from day to da, telling us that every one of them is able to ride at his own pleasure and dicretion of time.\n",
    "\n",
    ">Both the Subscribers and Customers ride more on Saturdays and Sundays, telling us that the increase in duration of ride on these days is not exclusive to one party. \n",
    "\n",
    "> Stamina and strength might not be a factor to determining trip duration, as we can see that even Female tend to ride longer on the average than the male counterparts. This follows accordingly in the duration by user_type and gender chart.\n",
    ".\n"
   ]
  },
  {
   "cell_type": "code",
   "execution_count": 351,
   "metadata": {},
   "outputs": [],
   "source": [
    "bike_df_clean.to_csv('Ford_Gobike_clean.csv')"
   ]
  },
  {
   "cell_type": "markdown",
   "metadata": {},
   "source": [
    "## References"
   ]
  },
  {
   "cell_type": "markdown",
   "metadata": {},
   "source": [
    "https://stackoverflow.com/questions/37801321/python-pandas-convert-string-to-time-only <br>\n",
    "https://www.geeksforgeeks.org/python-convert-string-to-datetime-and-vice-versa/ <br>\n",
    "https://www.geeksforgeeks.org/python-program-to-convert-seconds-into-hours-minutes-and-seconds/ <br>\n",
    "https://stackoverflow.com/questions/47333227/pandas-valueerror-cannot-convert-float-nan-to-integer <br>\n"
   ]
  }
 ],
 "metadata": {
  "kernelspec": {
   "display_name": "Python 3",
   "language": "python",
   "name": "python3"
  },
  "language_info": {
   "codemirror_mode": {
    "name": "ipython",
    "version": 3
   },
   "file_extension": ".py",
   "mimetype": "text/x-python",
   "name": "python",
   "nbconvert_exporter": "python",
   "pygments_lexer": "ipython3",
   "version": "3.8.8"
  }
 },
 "nbformat": 4,
 "nbformat_minor": 2
}
